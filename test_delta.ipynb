{
 "cells": [
  {
   "cell_type": "code",
   "execution_count": null,
   "metadata": {},
   "outputs": [
    {
     "data": {
      "text/plain": [
       "<duckdb.duckdb.DuckDBPyConnection at 0x7f76f4bf68b0>"
      ]
     },
     "execution_count": 22,
     "metadata": {},
     "output_type": "execute_result"
    }
   ],
   "source": [
    "import duckdb\n",
    "from deltalake import DeltaTable\n",
    "import pandas as pd\n",
    "\n",
    "conn = duckdb.connect(\":memory:\")\n",
    "\n",
    "df = pd.DataFrame({\"x\": [1, 2, 3]})\n",
    "conn.execute('BEGIN')\n",
    "conn.execute('create schema if not exists \"memory\".\"test16965229211977761792_test_delta\"')\n",
    "conn.execute('COMMIT')\n",
    "conn1 = conn.cursor() \n",
    "conn1.register(\"table_1_df\",df)\n",
    "conn1.execute('CREATE OR REPLACE view memory.main.table_1 AS SELECT * FROM table_1_df')\n",
    "\n",
    "conn.execute('BEGIN')\n",
    "conn.execute('drop schema if exists \"memory\".\"test16965229211977761792_test_delta\" cascade')\n",
    "conn.execute('COMMIT')\n",
    "#conn.execute(\"SELECT * FROM test_materialized\")\n",
    "#conn1.execute(\"SELECT * FROM test_materialized\").show()"
   ]
  },
  {
   "cell_type": "code",
   "execution_count": 3,
   "metadata": {},
   "outputs": [
    {
     "data": {
      "text/plain": [
       "┌───────────────┬──────────────────────────────────────────────────────────────────────────────────────────────────────┐\n",
       "│  explain_key  │                                            explain_value                                             │\n",
       "│    varchar    │                                               varchar                                                │\n",
       "├───────────────┼──────────────────────────────────────────────────────────────────────────────────────────────────────┤\n",
       "│ physical_plan │ ┌───────────────────────────┐\\n│         PROJECTION        │\\n│   ─ ─ ─ ─ ─ ─ ─ ─ ─ ─ ─   │\\n│    …  │\n",
       "└───────────────┴──────────────────────────────────────────────────────────────────────────────────────────────────────┘"
      ]
     },
     "execution_count": 3,
     "metadata": {},
     "output_type": "execute_result"
    }
   ],
   "source": [
    "import duckdb\n",
    "conn = duckdb.connect(\":memory:\")\n",
    "\n",
    "conn.sql(\"EXPLAIN SELECT 1\")"
   ]
  },
  {
   "cell_type": "code",
   "execution_count": null,
   "metadata": {},
   "outputs": [],
   "source": []
  }
 ],
 "metadata": {
  "kernelspec": {
   "display_name": "Python 3",
   "language": "python",
   "name": "python3"
  },
  "language_info": {
   "codemirror_mode": {
    "name": "ipython",
    "version": 3
   },
   "file_extension": ".py",
   "mimetype": "text/x-python",
   "name": "python",
   "nbconvert_exporter": "python",
   "pygments_lexer": "ipython3",
   "version": "3.11.4"
  },
  "orig_nbformat": 4
 },
 "nbformat": 4,
 "nbformat_minor": 2
}
